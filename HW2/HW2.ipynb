{
 "cells": [
  {
   "cell_type": "markdown",
   "metadata": {
    "id": "ymhPr15iyYdD"
   },
   "source": [
    "# Homework 2: Dijstrka and Ising\n",
    "\n"
   ]
  },
  {
   "cell_type": "markdown",
   "metadata": {
    "id": "ZrHDENK3wEnO"
   },
   "source": [
    "#Part 1 - Find your way in Paris\n",
    "\n",
    "\n",
    "For many of you this is the first year in Paris, one of the most cosmopolitan city in the world. During this homework we will help you building your home-made navigator using the Dijstrka algorithm.\n",
    "\n",
    "Moreover you will challenge yourself on how to create nice and readble plots using Python."
   ]
  },
  {
   "cell_type": "markdown",
   "metadata": {
    "id": "1i7pgWcsiO5P"
   },
   "source": [
    "## Data loading\n",
    "\n",
    "By running the below cells, you will download all the required data. You can also download them manually and put them in the same folder of the notebook."
   ]
  },
  {
   "cell_type": "code",
   "execution_count": 1,
   "metadata": {
    "id": "eqt8t-UWwQHG"
   },
   "outputs": [],
   "source": [
    "#libraries import\n",
    "import numpy as np\n",
    "import pandas as pd\n",
    "import matplotlib.pyplot as plt\n",
    "import json"
   ]
  },
  {
   "cell_type": "markdown",
   "metadata": {
    "id": "lYJX7TVi-g-G"
   },
   "source": [
    "### Map data preparation\n",
    "\n",
    "Run the cells below to download the data about the map of Paris."
   ]
  },
  {
   "cell_type": "code",
   "execution_count": null,
   "metadata": {
    "id": "8yXPLvKa_S45"
   },
   "outputs": [],
   "source": [
    "#this are the data used for plotting the map of Paris\n",
    "#! wget \"https://github.com/Schimmenti/NumPhysENS/raw/master/arrondissements-millesimes0.csv\""
   ]
  },
  {
   "cell_type": "code",
   "execution_count": 23,
   "metadata": {
    "id": "JauU1a__wWnE",
    "scrolled": false
   },
   "outputs": [],
   "source": [
    "# run this code to create a list of the coordinates of the different arrondissements of Paris\n",
    "arrondis = pd.read_csv(\"arrondissements-millesimes0.csv\", delimiter=\";\")\n",
    "arrondis = arrondis[arrondis.Commune.str.contains(\"PARIS\")]\n",
    "shapes = arrondis.geo_shape\n",
    "coords = []\n",
    "arr_names = arrondis.nom_com.values\n",
    "for shape in shapes:\n",
    "  temp=json.loads(shape)\n",
    "  coords.append(np.array(temp['coordinates'])[0,...])\n",
    "#'coords' is a list of the points making up the perimeter of each arrondissement in Paris\n",
    "# i.e. coords[0] is a (M,2) matrix with M the number of points\n",
    "# by using plt.plot(coords[0][:,0],coords[0][:,1]) you can plot the whole arrondissement.\n",
    "# the important variables here are 'coords' and 'arr_names' i.e. the coordinates and the name of the arrondissement."
   ]
  },
  {
   "cell_type": "code",
   "execution_count": 26,
   "metadata": {},
   "outputs": [
    {
     "data": {
      "text/plain": [
       "([], [])"
      ]
     },
     "execution_count": 26,
     "metadata": {},
     "output_type": "execute_result"
    },
    {
     "data": {
      "image/png": "[encoded data removed]",
      "text/plain": [
       "<Figure size 432x288 with 1 Axes>"
      ]
     },
     "metadata": {},
     "output_type": "display_data"
    }
   ],
   "source": [
    "for i in range(len(coords)):\n",
    "    plt.fill(coords[i][:, 0], coords[i][:, 1])\n",
    "plt.xticks([])\n",
    "plt.yticks([])"
   ]
  },
  {
   "cell_type": "markdown",
   "metadata": {
    "id": "rHjjWKRs93ZU"
   },
   "source": [
    "### Data preparation\n",
    "\n",
    "Run the two cells below to (i) download the data and (ii) create the networks.  Note that the run time of the second cell is longer and might take one minute.\n",
    "* Each node of the network is labeled by a unique code and represents a single line station of the Paris transportation network (metro, rer, tram or bus) as of 2018. For example the metro station *Jussieu* is associated to two codes (282 ans 283) one for the metro line 7  and the other for the metro line 10. \n",
    "\n",
    "* The dictionary 'net' contains the information about the neighbors of a given node. To find the list of nodes that you can reach from the node 'i' you may use:\n",
    "```\n",
    "net[i]\n",
    "```\n",
    "* The time (in seconds) taken to travel from the station i to the neighoring station j is given in the nested dictionary 'durations':\n",
    "```\n",
    "durations[i][j]\n",
    "```\n",
    "This duration represents either the time taken by the public transport (bus, metro...) to connect two consecutive stations or the estimated walking time needed for the change. Note that the network is directed as 'durations[i][j]' can be different from 'durations[j][i]'.\n"
   ]
  },
  {
   "cell_type": "code",
   "execution_count": null,
   "metadata": {
    "id": "ihFMraVWBPYG"
   },
   "outputs": [],
   "source": [
    "#this is the data used for plotting the map of Paris\n",
    "#! wget \"https://github.com/Schimmenti/NumPhysENS/raw/master/network_nodes.csv\"\n",
    "#! wget \"https://raw.githubusercontent.com/Schimmenti/NumPhysENS/master/network_combined.csv\"\n",
    "#! wget \"https://raw.githubusercontent.com/Schimmenti/NumPhysENS/master/network_walk.csv\""
   ]
  },
  {
   "cell_type": "code",
   "execution_count": 27,
   "metadata": {
    "id": "jPj2HZBqO8DN"
   },
   "outputs": [],
   "source": [
    "net_names = pd.read_csv(\"network_nodes.csv\", delimiter=\";\")\n",
    "def search_station(src_string):\n",
    "  return net_names[net_names.name.str.contains(src_string, case=False)]\n",
    "def station_name(id):\n",
    "  return net_names[net_names.stop_I == id].name.values[0]\n",
    "def station_position(id):\n",
    "  line = net_names[net_names.stop_I == id]\n",
    "  return line.lon.values[0], line.lat.values[0]\n",
    "combined = pd.read_csv(\"network_combined.csv\", delimiter=\";\")\n",
    "walk = pd.read_csv(\"network_walk.csv\", delimiter=\";\")\n",
    "walk_symm = walk.copy()\n",
    "walk_symm.from_stop_I = walk.to_stop_I\n",
    "walk_symm.to_stop_I = walk.from_stop_I\n",
    "walk = walk.append(walk_symm)\n",
    "walk = walk.sort_values(by='from_stop_I')\n",
    "walk = walk.reset_index(drop=True)\n",
    "final_net = combined.merge(walk, on=['from_stop_I','to_stop_I'], how='outer')\n",
    "final_net = final_net[[\"from_stop_I\",\t\"to_stop_I\",\"duration_avg\",\"d_walk\"]]\n",
    "final_duration = np.fmin(final_net.duration_avg,final_net.d_walk)\n",
    "final_net[\"duration\"] = final_duration\n",
    "max_idx = max(np.max(final_net[\"from_stop_I\"].values),np.max(final_net[\"to_stop_I\"].values))\n",
    "min_idx = min(np.min(final_net[\"from_stop_I\"].values),np.min(final_net[\"to_stop_I\"].values))\n",
    "net ={}\n",
    "for i in range(min_idx, max_idx+1):\n",
    "    net[i] = []\n",
    "durations = {}\n",
    "for id, g in final_net.groupby('from_stop_I'):\n",
    "    net[id].extend(list(g[\"to_stop_I\"].values))\n",
    "    durations[id] = {}\n",
    "    for _,line in g.iterrows():\n",
    "      durations[id][line.to_stop_I] = line.duration"
   ]
  },
  {
   "cell_type": "markdown",
   "metadata": {
    "id": "j4T3ep6nPbXo"
   },
   "source": [
    "## Implementation of the Dijkstra algorithm\n",
    "\n",
    "Complete the following code to implement the Dijkstra algorithm for this network "
   ]
  },
  {
   "cell_type": "code",
   "execution_count": null,
   "metadata": {
    "id": "ZBC1TBfhPhXE"
   },
   "outputs": [],
   "source": [
    "def dijkstra(net, durations, source):\n",
    "  #dur_src[i] should contain (at the end) the duration (in seconds) that it takes to go from 'source' to 'i'\n",
    "  dur_src = {}\n",
    "  #previous_node[i] should contain (at the end) the node preceeding 'i' in the minimal-distance path between 'source' and 'i'\n",
    "  previous_node = {}\n",
    "  #this for-loop initializes correctly dur_src and previous_node  \n",
    "  for k in net.keys():\n",
    "    dur_src[k] = np.infty\n",
    "    previous_node[k] = None\n",
    "  #naturally 'source' has duration '0' from itself\n",
    "  dur_src[source] = 0\n",
    "  \n",
    "  \n",
    "  #you complete\n",
    "\n",
    "  return dur_src, previous_node"
   ]
  },
  {
   "cell_type": "markdown",
   "metadata": {
    "id": "AnU7GbeCSK7F"
   },
   "source": [
    "We give you an hint for such implementation. Use the same trick we used to construct the clusters in the Wolff algorithm. In order to explore the network more efficiently it is better to pop the elements in 'border' starting from the oldest one (e.g. the one that we added first during the exploration). To do this simply use the function .pop(0) instead of .pop(). Namely:\n",
    "\n",
    "```\n",
    "border = [source]\n",
    "  while(len(border)>0):\n",
    "    next_node = border.pop(0)\n",
    "```"
   ]
  },
  {
   "cell_type": "markdown",
   "metadata": {
    "id": "tIe-7zo1UyzR"
   },
   "source": [
    "## Question 1\n",
    "\n",
    "After the Friday lesson you have been invited to a party held at 358 rue de Pyrénées. The closest metro station is *Pyrénées* (with code 146). From 24 rue Lhomond the closest metro station is *Place Monge - Jardin des Plantes* (with code 42). Compute the minimal duration of the trip to reach the party.\n"
   ]
  },
  {
   "cell_type": "markdown",
   "metadata": {
    "id": "usyL3xXaWkOb"
   },
   "source": [
    "## Question 2\n",
    "\n",
    "Reconstruct the full path listing all the intermediate stations and the time (in minutes) taken to reach them. The final result should look like:\n",
    "```\n",
    "Station: 42 Time: 0\n",
    "Station: yyyy Time: zzzz\n",
    "(omissis)\n",
    "Station: 146 Time: xxxx\n",
    "```"
   ]
  },
  {
   "cell_type": "markdown",
   "metadata": {
    "id": "84P_K9AvYqbf"
   },
   "source": [
    "## Question 3\n",
    "* Represent your results on the map of Paris and indicate the name of each station in the path.\n",
    "\n",
    "* To do this we provide two functions:\n",
    "  1.   A function 'station_name(id)' that, given the code of the station, returns its name:\n",
    "    ```\n",
    "    station_name(42)\n",
    "    ```\n",
    "  2.   A function 'station_position(id)' that, given the code of the station, returns its GPS coordinates as a tuple i.e. (x,y):\n",
    "  ```\n",
    "    station_position(42)\n",
    "    ```\n",
    "* We provide also a code below that generates an empty map. All the data needed to do so have been downloaded in section 'Data loading'. Modify the code in order to answer the question."
   ]
  },
  {
   "cell_type": "code",
   "execution_count": null,
   "metadata": {
    "id": "vHMs9zvdZ16T"
   },
   "outputs": [],
   "source": [
    "#the variables coords and arr_names have been generated in the 'Data loading/Map data preparation' section.\n",
    "fig, ax = plt.subplots(figsize=(20,13))\n",
    "for idx,coord in enumerate(coords):\n",
    "  #plots the perimeter\n",
    "  plt.plot(coord[:,0],coord[:,1])\n",
    "  #centroid of the arrondissement \n",
    "  x_avg = np.mean(coord[:,0])\n",
    "  y_avg = np.mean(coord[:,1])\n",
    "  #adds a text and a bullet at the centroid of the arr.\n",
    "  plt.text(x_avg,y_avg,arr_names[idx])\n",
    "  plt.scatter(x_avg,y_avg)\n",
    "plt.show()"
   ]
  },
  {
   "cell_type": "markdown",
   "metadata": {
    "id": "r2RrgXJAaE2m"
   },
   "source": [
    "## Question 4\n",
    "\n",
    "Unfortunately a big social protest is taking place in Jussieu and the metro stations with codes 282 and 283 are closed. Find an alternative itinerary to reach the party. Provide its duration and map.\n",
    "\n",
    "### Hint\n",
    "Since Jussieu is closed for the whole day, the duration of the connections to and from Jussieu become one day longer (i.e. 86400 seconds). In order to avoid Jussieu modify the nested-dictionary 'durations' and add at the appropriate spots this time delay.\n"
   ]
  },
  {
   "cell_type": "markdown",
   "metadata": {
    "id": "Y7XlNZgIhu0D"
   },
   "source": [
    "# Part 2 - Further exploration of the Ising model\n",
    "\n",
    "In this second part, you will be interested in the two-dimensional Ising model.\n",
    "As a reminder, the Ising model describes a set of spins sitting on the sites\n",
    "of a given lattice. You will consider the **periodic** two-dimensional square\n",
    "lattice with $N = L \\times L$ sites. The spin sitting on the site $j$ is described by\n",
    "a variable $\\sigma_j = \\pm 1$. The energy for\n",
    "a given configuration $\\{ \\sigma \\}$ of spins is\n",
    "\n",
    "$$\n",
    "E(\\{\\sigma\\}) = -J\\sum_{\\langle ij \\rangle} \\sigma_i \\sigma_j\n",
    "$$\n",
    "\n",
    "where $\\langle i j \\rangle$ indicates that $i$ and $j$ are\n",
    "nearest-neighbors on the lattice. In the following, you will consider the\n",
    "ferromagnetic case $J>0$ and use $J=1$ as the unit of energy.\n",
    "The Ising model has a phase transition at the critical temperature\n",
    "\n",
    "$$\n",
    "T_c = \\frac{2}{\\ln(1+\\sqrt{2})} = 2.269185\\ldots\n",
    "$$"
   ]
  },
  {
   "cell_type": "markdown",
   "metadata": {
    "id": "nxITruxdikH0"
   },
   "source": [
    "## The Glauber algorithm\n",
    "\n",
    "During the lecture, you have studied three different Monte Carlo algorithms for the Ising model. Here, you will investigate one more: the Glauber algorithm.\n",
    "Just like the heat-bath it is also a rejection-free\n",
    "algorithm. The algorithm follows these steps:\n",
    "\n",
    "1. Pick a random site $i$ on the lattice\n",
    "\n",
    "2. Flip the spin $\\sigma_i$ on site $i$ to $-\\sigma_i$ with probability:\n",
    "\n",
    "   $$\n",
    "    P^\\mathrm{flip}_i = \\frac{1}{1 + \\exp(\\beta \\, 2 J \\sigma_i h_i)}\n",
    "   $$\n",
    "   \n",
    "   where $h_i$ is the molecular field on the site $i$:\n",
    "   \n",
    "   $$\n",
    "   h_i = \\sum_{j \\, \\in \\, \\text{neighbors of $i$}} \\sigma_j\n",
    "   $$\n",
    "   \n",
    "3. Go back to step 1."
   ]
  },
  {
   "cell_type": "markdown",
   "metadata": {
    "id": "5duYyqMhipkS"
   },
   "source": [
    "### Question 5\n",
    "\n",
    "Prove that the Glauber algorithm leads to a sampling of the configurations that follows the Boltzmann distribution."
   ]
  },
  {
   "cell_type": "markdown",
   "metadata": {
    "id": "wrkbKVzGipgi"
   },
   "source": [
    "#### Answer 5\n",
    "\n",
    "_A proof is expected_"
   ]
  },
  {
   "cell_type": "markdown",
   "metadata": {
    "id": "nPnZIWsHit0s"
   },
   "source": [
    "### Question 6\n",
    "\n",
    "Implement the Glauber algorithm and compare your results to those\n",
    "  obtained with the Wolff algorithm.\n",
    "  More specifically, use both algorithms to compute: the absolute value of the magnetization,\n",
    "  the specific heat, the energy and the susceptibility as a function of temperature.\n",
    "  Use a $6 \\times 6$ lattice and 10 temperatures in the range $[0.5, 4.0]$.\n",
    "  \n",
    "  The function that implements the Glauber algorithm can have the signature\n",
    "  ```python\n",
    "def glauber(config, T)\n",
    "    # your code\n",
    "  ```\n",
    "  where `config` is a spin configuration to be modified by the Glauber algorithm and `T`\n",
    "  is the temperature. Just like for the heat bath, let the function apply a total of\n",
    "  $N = L \\times L$ proposal moves.\n",
    "  \n",
    "  When running\n",
    "  the Wolff algorithm, use the implementation below. It is an improved version of the algorithm\n",
    "  that we have used in the lecture that runs a bit faster:\n",
    "\n",
    "  ```python\n",
    "def wolff(config, T):\n",
    "    \n",
    "    # pick a site\n",
    "    L = config.shape[0]\n",
    "    i, j = np.random.randint(L, size=2)\n",
    "    border = set([(i,j)])\n",
    "    \n",
    "    # inclusion probability\n",
    "    beta = 1 / T\n",
    "    p = 1.0 - np.exp(-2.0 * beta)\n",
    "    direction = config[i,j]\n",
    "\n",
    "    # grow the cluster\n",
    "    while border:\n",
    "        i, j = border.pop()\n",
    "        neighbors = [ ((i+1)%L, j), ((i-1)%L, j), (i, (j+1)%L), (i, (j-1)%L) ]\n",
    "        for u, v in neighbors:\n",
    "            if config[u,v] == direction and np.random.rand() < p:\n",
    "                border.update([(u,v)])\n",
    "                \n",
    "        config[i,j] *= -1\n",
    "   ```"
   ]
  },
  {
   "cell_type": "markdown",
   "metadata": {
    "id": "toisVzKPiuT1"
   },
   "source": [
    "#### Answer 6\n",
    "\n",
    "_A code as well as 4 plots showing a comparison between the algorithms are expected._"
   ]
  },
  {
   "cell_type": "markdown",
   "metadata": {
    "id": "ouutmmFkiutE"
   },
   "source": [
    "## Cluster size histogram\n",
    "\n",
    "In this section, you will investigate the distribution of cluster sizes in the Wolff cluster\n",
    "algorithm. In particular, you will study what are the cluster sizes that are sampled\n",
    "in different regimes of the Ising model: low temperature, high temperature and at the critical temperature $T_c$."
   ]
  },
  {
   "cell_type": "markdown",
   "metadata": {
    "id": "I6ecwhXljAAo"
   },
   "source": [
    "### Question 7\n",
    "\n",
    "Make a small modification to the `wolff` function given above so that it returns\n",
    "  the size of the cluster that was flipped. Then, create histograms that display the distribution\n",
    "  of cluster sizes that are flipped during the Monte Carlo sampling. Compute these histograms\n",
    "  for 3 temperatures: $T = 0.9 T_c, T_c, 1.1 T_c$ for a system of size $32 \\times 32$.\n",
    "  Discuss the results."
   ]
  },
  {
   "cell_type": "markdown",
   "metadata": {
    "id": "vOME26LqjAlQ"
   },
   "source": [
    "#### Answer 7\n",
    "\n",
    "_A code using your modified `wolff` function is expected, together with 3 histogram plots and a discussion of the results._"
   ]
  },
  {
   "cell_type": "markdown",
   "metadata": {
    "id": "LuVgN20zjJJf"
   },
   "source": [
    "## Spin-spin correlations\n",
    "\n",
    "In this last section, you will compute and discuss the spin-spin correlation function.\n",
    "It is defined by the following average\n",
    "\n",
    "$$\n",
    "  C(r) = \\langle \\sigma_i \\; \\sigma_{i+r} \\rangle\n",
    "$$\n",
    "\n",
    "This function measures how the spin at site $i$ and the spin at site $i+r$ are correlated.\n",
    "In the following, you will focus on the case where $r$ is a vector along the horizontal\n",
    "axis. In other words, the site $i$ and the site $i+r$ are on the same row. The correlation\n",
    "function $C(r)$ does not depend on $i$ because of the translational symmetry of the lattice.\n",
    "On an infinite lattice and not too far from the critical temperature, it can be shown that the correlation function has the following\n",
    "behavior at large $r$:\n",
    "  \n",
    "$$\n",
    " C(r) \\sim A \\frac{\\exp(-r / \\xi)}{(r/\\xi)^\\eta} + S\n",
    "$$\n",
    "\n",
    "where $\\xi$ is the correlation length and $A, S$ are constants. Onsager has shown that\n",
    "the critical exponent $\\eta = 1/4$."
   ]
  },
  {
   "cell_type": "markdown",
   "metadata": {
    "id": "bB_44Wg3jJGU"
   },
   "source": [
    "### Question 8\n",
    "\n",
    "Write a function that computes the correlation function $C(r)$ using the Wolff cluster\n",
    "  Monte Carlo algorithm on a $32 \\times 32$ lattice.\n",
    "  Compute $C(r)$ at two temperatures: $T = 0.8 T_c$ and $T = 1.2 T_c$. Discuss the qualitative differences\n",
    "  between these results (using plots of $C(r)$ in both cases)."
   ]
  },
  {
   "cell_type": "markdown",
   "metadata": {
    "id": "NDmqAEa_jJDR"
   },
   "source": [
    "#### Answer 8\n",
    "\n",
    "_A code as well as two plots with a discussion of the results are expected._"
   ]
  },
  {
   "cell_type": "markdown",
   "metadata": {
    "id": "AC-TXVt5jJAJ"
   },
   "source": [
    "### Question 9\n",
    "\n",
    "Compute the correlation function $C(r)$ for 10 temperatures in the range\n",
    "  $[T_c - 0.3, T_c + 0.3]$. Fit these correlation functions with a function of the form\n",
    "  \n",
    "  $$\n",
    "    f_\\mathrm{fit}(r) = A \\frac{\\exp(-r / \\xi)}{(r/\\xi)^\\eta} + S\n",
    "  $$\n",
    "\n",
    "  where $A$, $S$, $\\eta$ and $\\xi$ are fitting parameters. Note that even though we know that $\\eta = 1/4$\n",
    "  from the Onsager solution, we will not assume we know that value and you should use $\\eta$ as one of the\n",
    "  fitting parameters. Create plots that show $C(r)$ and its fits.\n",
    "  \n",
    "#### Hints\n",
    "  \n",
    "  - Because we work with finite lattices with periodic boundary conditions, be careful\n",
    "    to only use *half* of the data in $C(r)$.\n",
    "    \n",
    "  - The fitting function is in principle only valid for large $r$. In practice, you can\n",
    "    just **ignore the first point** (at $r=0$) of the data in the fit.\n",
    "      \n",
    "  - You can use `scipy.optimize` to do the fits. Here is an example of how it works:\n",
    "  \n",
    "    ```python\n",
    "    import scipy.optimize\n",
    "    \n",
    "    # fit function\n",
    "    def fit_function(x, a, b, c):\n",
    "      return # some function of (x,a,b,c)\n",
    "\n",
    "    # data obtained by Monte Carlo\n",
    "    x_values = ...\n",
    "    y_values = ...\n",
    "    \n",
    "    # do the fit\n",
    "    a, b, c = scipy.optimize.curve_fit(fit_function, x_values, y_values, bounds=[0,20])[0]\n",
    "    \n",
    "    ```\n",
    "   \n",
    "    where we have specified that the fit should only consider values for $a,b,c$ in $[0,20]$."
   ]
  },
  {
   "cell_type": "markdown",
   "metadata": {
    "id": "5CTmhN_ljIyv"
   },
   "source": [
    "#### Answer 9\n",
    "\n",
    "_A code together with 10 plots is expected._\n"
   ]
  },
  {
   "cell_type": "markdown",
   "metadata": {
    "id": "h6Pe7nq7lE0h"
   },
   "source": [
    " ### Question 10\n",
    " \n",
    "Discuss the behavior of the fitting parameters $\\xi, \\eta, S$ in connection with their physical meaning."
   ]
  },
  {
   "cell_type": "markdown",
   "metadata": {
    "id": "Lj8pXbhUlIKp"
   },
   "source": [
    "#### Answer 10\n",
    "\n",
    "_A discussion of the results is expected. You may want to generate additional plots to support your discussion._"
   ]
  }
 ],
 "metadata": {
  "colab": {
   "collapsed_sections": [
    "ZrHDENK3wEnO",
    "1i7pgWcsiO5P",
    "lYJX7TVi-g-G",
    "rHjjWKRs93ZU",
    "j4T3ep6nPbXo",
    "usyL3xXaWkOb",
    "84P_K9AvYqbf",
    "r2RrgXJAaE2m",
    "nxITruxdikH0",
    "nPnZIWsHit0s",
    "ouutmmFkiutE",
    "I6ecwhXljAAo",
    "LuVgN20zjJJf",
    "bB_44Wg3jJGU",
    "AC-TXVt5jJAJ",
    "h6Pe7nq7lE0h"
   ],
   "name": "HW2.ipynb",
   "provenance": [],
   "toc_visible": true
  },
  "kernelspec": {
   "display_name": "Python 3",
   "language": "python",
   "name": "python3"
  },
  "language_info": {
   "codemirror_mode": {
    "name": "ipython",
    "version": 3
   },
   "file_extension": ".py",
   "mimetype": "text/x-python",
   "name": "python",
   "nbconvert_exporter": "python",
   "pygments_lexer": "ipython3",
   "version": "3.8.5"
  }
 },
 "nbformat": 4,
 "nbformat_minor": 1
}
